{
 "cells": [
  {
   "cell_type": "code",
   "execution_count": 1,
   "id": "c3939bf1-561a-40de-a01b-3f48c086a3ec",
   "metadata": {},
   "outputs": [
    {
     "name": "stdout",
     "output_type": "stream",
     "text": [
      "Requirement already satisfied: requests in c:\\users\\neon\\.virtualenvs\\day_19-p9nuchud\\lib\\site-packages (2.31.0)\n",
      "Requirement already satisfied: charset-normalizer<4,>=2 in c:\\users\\neon\\.virtualenvs\\day_19-p9nuchud\\lib\\site-packages (from requests) (3.2.0)\n",
      "Requirement already satisfied: idna<4,>=2.5 in c:\\users\\neon\\.virtualenvs\\day_19-p9nuchud\\lib\\site-packages (from requests) (3.4)\n",
      "Requirement already satisfied: urllib3<3,>=1.21.1 in c:\\users\\neon\\.virtualenvs\\day_19-p9nuchud\\lib\\site-packages (from requests) (2.0.4)\n",
      "Requirement already satisfied: certifi>=2017.4.17 in c:\\users\\neon\\.virtualenvs\\day_19-p9nuchud\\lib\\site-packages (from requests) (2023.7.22)\n"
     ]
    }
   ],
   "source": [
    "!pip install requests"
   ]
  },
  {
   "cell_type": "code",
   "execution_count": 2,
   "id": "12a8b4c7-3095-446d-b593-658b38c3e6c1",
   "metadata": {},
   "outputs": [],
   "source": [
    "import requests\n",
    "import datetime"
   ]
  },
  {
   "cell_type": "code",
   "execution_count": 3,
   "id": "11c1712a-ea17-4ad6-b9ce-fea8e2f3af93",
   "metadata": {},
   "outputs": [],
   "source": [
    "import base64"
   ]
  },
  {
   "cell_type": "code",
   "execution_count": 4,
   "id": "bab4276f-c8ba-44f3-95bf-9b32d459c444",
   "metadata": {},
   "outputs": [],
   "source": [
    "client_id = 'f6827c909fde4ba3aa2f590fec102f23'\n",
    "client_secret = '55001cad5d894923ae0747562beb80c6'"
   ]
  },
  {
   "cell_type": "code",
   "execution_count": 5,
   "id": "cfa7db16-b657-4b5a-8766-c9310b36167f",
   "metadata": {},
   "outputs": [],
   "source": [
    "# do look up for a token\n",
    "# this token is for future requests "
   ]
  },
  {
   "cell_type": "code",
   "execution_count": 6,
   "id": "b81ecdf3-0af7-4887-a57e-e5803d6f7054",
   "metadata": {},
   "outputs": [
    {
     "data": {
      "text/plain": [
       "str"
      ]
     },
     "execution_count": 6,
     "metadata": {},
     "output_type": "execute_result"
    }
   ],
   "source": [
    "client_creds = f\"{client_id}:{client_secret}\"\n",
    "type(client_creds)"
   ]
  },
  {
   "cell_type": "code",
   "execution_count": 7,
   "id": "3de9cb6d-69df-4b75-a379-bb44cf4319c2",
   "metadata": {},
   "outputs": [
    {
     "data": {
      "text/plain": [
       "bytes"
      ]
     },
     "execution_count": 7,
     "metadata": {},
     "output_type": "execute_result"
    }
   ],
   "source": [
    "client_creds_b64 = base64.b64encode(client_creds.encode())\n",
    "type(client_creds_b64)"
   ]
  },
  {
   "cell_type": "code",
   "execution_count": 8,
   "id": "333fe540-234f-414b-b8e6-8593ee33ec25",
   "metadata": {},
   "outputs": [],
   "source": [
    "# base64.b64decode(client_creds_b64)"
   ]
  },
  {
   "cell_type": "code",
   "execution_count": 9,
   "id": "3ba27f95-e9ed-4340-bef6-4669e9d83ebf",
   "metadata": {},
   "outputs": [],
   "source": [
    "token_url = 'https://accounts.spotify.com/api/token'\n",
    "method = \"POST\"\n",
    "token_data = {\n",
    "    \"grant_type\": \"client_credentials\"\n",
    "}\n",
    "token_headers = {\n",
    "    \"Authorization\": f\"Basic {client_creds_b64.decode()}\" # Basic <base64 encoded client_id:client_secret>\n",
    "}"
   ]
  },
  {
   "cell_type": "code",
   "execution_count": 12,
   "id": "a3c65de3-63f4-4d0f-b0dc-b3fa484036be",
   "metadata": {},
   "outputs": [
    {
     "name": "stdout",
     "output_type": "stream",
     "text": [
      "{'access_token': 'BQAlReK2rbNWSETznzWIgaN8J4tR_ZL4hcjwPZehBF4E2VskFM5XiSGMQVLk3kNr5Hy6rlEpTDcceeIsC-h-bWYY5ILY8ChRl5Anzo9dErGUrRXRHVw', 'token_type': 'Bearer', 'expires_in': 3600}\n"
     ]
    }
   ],
   "source": [
    "r = requests.post(token_url, data=token_data, headers=token_headers)\n",
    "print(r.json())\n",
    "valid_request = r.status_code in range(200, 299)"
   ]
  },
  {
   "cell_type": "code",
   "execution_count": 13,
   "id": "8df2a81c-dc68-4561-869e-ca9727e89b80",
   "metadata": {},
   "outputs": [],
   "source": [
    "if valid_request:\n",
    "    token_response_data = r.json()\n",
    "    now = datetime.datetime.now()\n",
    "    access_token = token_response_data['access_token']\n",
    "    expires_in = token_response_data['expires_in'] # seconds\n",
    "    expires = now + datetime.timedelta(seconds=expires_in)\n",
    "    did_expires = expires < now"
   ]
  }
 ],
 "metadata": {
  "kernelspec": {
   "display_name": "Python 3 (ipykernel)",
   "language": "python",
   "name": "python3"
  },
  "language_info": {
   "codemirror_mode": {
    "name": "ipython",
    "version": 3
   },
   "file_extension": ".py",
   "mimetype": "text/x-python",
   "name": "python",
   "nbconvert_exporter": "python",
   "pygments_lexer": "ipython3",
   "version": "3.8.2"
  }
 },
 "nbformat": 4,
 "nbformat_minor": 5
}
